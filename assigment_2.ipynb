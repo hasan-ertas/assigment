{
 "cells": [
  {
   "cell_type": "code",
   "execution_count": 1,
   "id": "5806cfa0",
   "metadata": {},
   "outputs": [],
   "source": [
    "import scipy.stats as stats\n",
    "from math import sqrt\n",
    "import numpy as np\n",
    "from scipy.stats import norm\n",
    "import matplotlib.pyplot as plt\n",
    "import seaborn as sns\n",
    "import pandas as pd\n",
    "import statsmodels.api as sm\n"
   ]
  },
  {
   "cell_type": "code",
   "execution_count": 2,
   "id": "8af3e6f2",
   "metadata": {},
   "outputs": [],
   "source": [
    "def analyze_distribution(data, column_name):\n",
    "    # Q-Q Plot\n",
    "    sm.qqplot(data[column_name].dropna(), line='s')\n",
    "    plt.title('Q-Q Plot for ' + column_name)\n",
    "    plt.xlabel('Theoretical Quantiles')\n",
    "    plt.ylabel('Sample Quantiles')\n",
    "    plt.show()\n",
    "\n",
    "    # Shapiro-Wilk Test\n",
    "    shapiro_test_statistic, shapiro_p_value = stats.shapiro(data[column_name].dropna())\n",
    "    print('Shapiro-Wilk Test:')\n",
    "    print('Statistic:', shapiro_test_statistic)\n",
    "    print('p-value:', shapiro_p_value)\n",
    "    print()\n",
    "    print(\"-----------------------------------------------\")\n",
    "    # Kolmogorov-Smirnov Test\n",
    "    ks_test_statistic, ks_p_value = stats.kstest(data[column_name].dropna(), 'norm')\n",
    "    print('Kolmogorov-Smirnov Test:')\n",
    "    print('Statistic:', ks_test_statistic)\n",
    "    print('p-value:', ks_p_value)\n",
    "    print()\n",
    " \n",
    " \n"
   ]
  },
  {
   "cell_type": "code",
   "execution_count": null,
   "id": "a1edff8a",
   "metadata": {},
   "outputs": [],
   "source": []
  },
  {
   "cell_type": "code",
   "execution_count": null,
   "id": "e0dc7fd8",
   "metadata": {},
   "outputs": [],
   "source": []
  },
  {
   "cell_type": "raw",
   "id": "9f2aac55",
   "metadata": {},
   "source": [
    "# EXERCISE 1. What is the normal body temperature for healthy humans? A random sample of 130 healthy human body temperatures provided by Allen Shoemaker yielded 98.25 degrees and standard deviation 0.73 degrees. \n",
    "\n",
    "Give a 99% confidence interval for the average body temperature of healthy people."
   ]
  },
  {
   "cell_type": "code",
   "execution_count": 4,
   "id": "6a5e93ec",
   "metadata": {},
   "outputs": [],
   "source": [
    "sample_mean = 98.25\n",
    "standard_deviation = 0.73\n",
    "sample_size = 130\n",
    "confidence_level = 0.99\n"
   ]
  },
  {
   "cell_type": "code",
   "execution_count": 5,
   "id": "70102c68",
   "metadata": {},
   "outputs": [
    {
     "data": {
      "text/plain": [
       "0.06402523540941313"
      ]
     },
     "execution_count": 5,
     "metadata": {},
     "output_type": "execute_result"
    }
   ],
   "source": [
    "sem = standard_deviation/ np.sqrt(sample_size)\n",
    "sem"
   ]
  },
  {
   "cell_type": "code",
   "execution_count": 6,
   "id": "8010be69",
   "metadata": {},
   "outputs": [
    {
     "data": {
      "text/plain": [
       "2.5758293035489004"
      ]
     },
     "execution_count": 6,
     "metadata": {},
     "output_type": "execute_result"
    }
   ],
   "source": [
    "z_value = norm.ppf((1 + confidence_level) / 2)\n",
    "z_value"
   ]
  },
  {
   "cell_type": "code",
   "execution_count": 7,
   "id": "190ad0a7",
   "metadata": {},
   "outputs": [
    {
     "data": {
      "text/plain": [
       "0.16491807753418303"
      ]
     },
     "execution_count": 7,
     "metadata": {},
     "output_type": "execute_result"
    }
   ],
   "source": [
    "moe = z_value* sem\n",
    "moe"
   ]
  },
  {
   "cell_type": "code",
   "execution_count": 8,
   "id": "01121831",
   "metadata": {},
   "outputs": [
    {
     "data": {
      "text/plain": [
       "98.41491807753418"
      ]
     },
     "execution_count": 8,
     "metadata": {},
     "output_type": "execute_result"
    }
   ],
   "source": [
    "upper_lim = sample_mean + moe\n",
    "upper_lim\n"
   ]
  },
  {
   "cell_type": "code",
   "execution_count": 9,
   "id": "05c548eb",
   "metadata": {},
   "outputs": [
    {
     "data": {
      "text/plain": [
       "98.08508192246582"
      ]
     },
     "execution_count": 9,
     "metadata": {},
     "output_type": "execute_result"
    }
   ],
   "source": [
    "low_lim = sample_mean - moe\n",
    "low_lim"
   ]
  },
  {
   "cell_type": "raw",
   "id": "319ab80c",
   "metadata": {},
   "source": [
    "# alternative method"
   ]
  },
  {
   "cell_type": "code",
   "execution_count": 10,
   "id": "2d310281",
   "metadata": {},
   "outputs": [],
   "source": [
    "ci= stats.norm.interval(0.99, sample_mean, sem)\n"
   ]
  },
  {
   "cell_type": "code",
   "execution_count": 11,
   "id": "00e1ba68",
   "metadata": {},
   "outputs": [
    {
     "name": "stdout",
     "output_type": "stream",
     "text": [
      "Confidence Interval: (98.085, 98.415)\n"
     ]
    }
   ],
   "source": [
    "print(f\"Confidence Interval: ({ci[0]:.3f}, {ci[1]:.3f})\")"
   ]
  },
  {
   "cell_type": "code",
   "execution_count": null,
   "id": "3908521a",
   "metadata": {},
   "outputs": [],
   "source": []
  },
  {
   "cell_type": "raw",
   "id": "38741468",
   "metadata": {},
   "source": [
    "EXERCISE 2. The administrators for a hospital wished to estimate the average number of days required for inpatient treatment of patients between the ages of 25 and 34. A random sample of 500 hospital patients between these ages produced a mean and standard deviation equal to 5.4 and 3.1 days, respectively.\n",
    "\n",
    "\n",
    "Construct a 95% confidence interval for the mean length of stay for the population of patients from which the sample was drawn."
   ]
  },
  {
   "cell_type": "code",
   "execution_count": 12,
   "id": "5415184a",
   "metadata": {},
   "outputs": [],
   "source": [
    "sample_mean = 5.4\n",
    "standard_deviation = 3.1\n",
    "sample_size= 500\n",
    "confidence_level = 0.95\n"
   ]
  },
  {
   "cell_type": "code",
   "execution_count": 13,
   "id": "92e2a650",
   "metadata": {},
   "outputs": [
    {
     "data": {
      "text/plain": [
       "0.13863621460498696"
      ]
     },
     "execution_count": 13,
     "metadata": {},
     "output_type": "execute_result"
    }
   ],
   "source": [
    "sem = standard_deviation/ np.sqrt(sample_size)\n",
    "sem"
   ]
  },
  {
   "cell_type": "code",
   "execution_count": 14,
   "id": "5a319abe",
   "metadata": {},
   "outputs": [
    {
     "data": {
      "text/plain": [
       "1.959963984540054"
      ]
     },
     "execution_count": 14,
     "metadata": {},
     "output_type": "execute_result"
    }
   ],
   "source": [
    "z_value = norm.ppf((1 + confidence_level) / 2)\n",
    "z_value"
   ]
  },
  {
   "cell_type": "code",
   "execution_count": 15,
   "id": "2c7077b9",
   "metadata": {},
   "outputs": [
    {
     "data": {
      "text/plain": [
       "0.2717219875787403"
      ]
     },
     "execution_count": 15,
     "metadata": {},
     "output_type": "execute_result"
    }
   ],
   "source": [
    "moe = z_value* sem\n",
    "moe"
   ]
  },
  {
   "cell_type": "code",
   "execution_count": 16,
   "id": "470b25f9",
   "metadata": {},
   "outputs": [
    {
     "data": {
      "text/plain": [
       "5.67172198757874"
      ]
     },
     "execution_count": 16,
     "metadata": {},
     "output_type": "execute_result"
    }
   ],
   "source": [
    "upper_lim = sample_mean + moe\n",
    "upper_lim"
   ]
  },
  {
   "cell_type": "code",
   "execution_count": 17,
   "id": "8076a3a8",
   "metadata": {},
   "outputs": [
    {
     "data": {
      "text/plain": [
       "5.12827801242126"
      ]
     },
     "execution_count": 17,
     "metadata": {},
     "output_type": "execute_result"
    }
   ],
   "source": [
    "low_lim = sample_mean - moe\n",
    "low_lim"
   ]
  },
  {
   "cell_type": "code",
   "execution_count": null,
   "id": "7c354f09",
   "metadata": {},
   "outputs": [],
   "source": []
  },
  {
   "cell_type": "code",
   "execution_count": 18,
   "id": "3f17b389",
   "metadata": {},
   "outputs": [],
   "source": [
    "ci = stats.norm.interval(0.95, sample_mean, sem)"
   ]
  },
  {
   "cell_type": "code",
   "execution_count": 19,
   "id": "1ab5ae40",
   "metadata": {},
   "outputs": [
    {
     "name": "stdout",
     "output_type": "stream",
     "text": [
      "Confidence Interval: (5.128, 5.672)\n"
     ]
    }
   ],
   "source": [
    "print(f\"Confidence Interval: ({ci[0]:.3f}, {ci[1]:.3f})\")"
   ]
  },
  {
   "cell_type": "raw",
   "id": "d441f726",
   "metadata": {},
   "source": [
    "HYPOTHESIS TESTING\n",
    "\n",
    "EXERCISE 3. The hourly wages in a particular industry are normally distributed with mean $13.20 and standard deviation $2.50. A company in this industry employs 40 workers, paying them an average of $12.20 per hour. Can this company be accused of paying substandard wages? Use an α = .01 level test. (Wackerly, Ex.10.18)\n",
    "\n",
    "CHECK: statistic: -2.5298221281347035, pvalue= 0.005706018193000826"
   ]
  },
  {
   "cell_type": "code",
   "execution_count": 20,
   "id": "d9cd463d",
   "metadata": {},
   "outputs": [],
   "source": [
    "x_bar = 12.20 # sample mean\n",
    "n = 40 # number of samples\n",
    "sigma = 2.5 # sd of population\n",
    "mu = 13.20 # Population mean"
   ]
  },
  {
   "cell_type": "raw",
   "id": "a00cf0ba",
   "metadata": {},
   "source": []
  },
  {
   "cell_type": "code",
   "execution_count": null,
   "id": "0e0d9a5e",
   "metadata": {},
   "outputs": [],
   "source": []
  },
  {
   "cell_type": "code",
   "execution_count": 21,
   "id": "8650f1c8",
   "metadata": {},
   "outputs": [
    {
     "data": {
      "text/plain": [
       "-2.5298221281347035"
      ]
     },
     "execution_count": 21,
     "metadata": {},
     "output_type": "execute_result"
    }
   ],
   "source": [
    "z = (x_bar - mu)/(sigma/sqrt(n))\n",
    "z"
   ]
  },
  {
   "cell_type": "code",
   "execution_count": 22,
   "id": "b582d249",
   "metadata": {},
   "outputs": [
    {
     "data": {
      "text/plain": [
       "0.005706378045635119"
      ]
     },
     "execution_count": 22,
     "metadata": {},
     "output_type": "execute_result"
    }
   ],
   "source": [
    "p_value = 1-stats.norm.cdf(2.5298)\n",
    "p_value"
   ]
  },
  {
   "cell_type": "code",
   "execution_count": 23,
   "id": "b6139200",
   "metadata": {},
   "outputs": [
    {
     "name": "stdout",
     "output_type": "stream",
     "text": [
      "At 0.01 level of significance, we can reject the null hypothesis in favor of alternative hypothesis.\n"
     ]
    }
   ],
   "source": [
    "alpha = 0.01\n",
    "\n",
    "if p_value<alpha:\n",
    "    print('At {} level of significance, we can reject the null hypothesis in favor of alternative hypothesis.'.format(alpha))\n",
    "else:\n",
    "    print('At {} level of significance, we fail to reject the null hypothesis.'.format(alpha))"
   ]
  },
  {
   "cell_type": "code",
   "execution_count": null,
   "id": "2dbb102f",
   "metadata": {},
   "outputs": [],
   "source": []
  },
  {
   "cell_type": "markdown",
   "id": "64ea11f4",
   "metadata": {},
   "source": [
    "EXERCISE 4.Shear strength measurements derived from unconfined compression tests\n",
    "for two types of soils gave the results shown in the following document (measurements in tons per square foot). \n",
    "Do the soils appear to differ with respect to average shear strength, at the 1% significance level?\n",
    "\n",
    "Results for two type of soils\n",
    "\n",
    "CHECK: statistic: 5.1681473319343345, pvalue= 2.593228732352821e-06"
   ]
  },
  {
   "cell_type": "code",
   "execution_count": 24,
   "id": "e4a18eb1",
   "metadata": {},
   "outputs": [],
   "source": [
    "df = pd.read_csv(\"soil - Sheet1.csv\")\n"
   ]
  },
  {
   "cell_type": "code",
   "execution_count": 25,
   "id": "cd27c643",
   "metadata": {},
   "outputs": [
    {
     "data": {
      "text/html": [
       "<div>\n",
       "<style scoped>\n",
       "    .dataframe tbody tr th:only-of-type {\n",
       "        vertical-align: middle;\n",
       "    }\n",
       "\n",
       "    .dataframe tbody tr th {\n",
       "        vertical-align: top;\n",
       "    }\n",
       "\n",
       "    .dataframe thead th {\n",
       "        text-align: right;\n",
       "    }\n",
       "</style>\n",
       "<table border=\"1\" class=\"dataframe\">\n",
       "  <thead>\n",
       "    <tr style=\"text-align: right;\">\n",
       "      <th></th>\n",
       "      <th>Soil1</th>\n",
       "      <th>Soil2</th>\n",
       "    </tr>\n",
       "  </thead>\n",
       "  <tbody>\n",
       "    <tr>\n",
       "      <th>count</th>\n",
       "      <td>30.000000</td>\n",
       "      <td>35.000000</td>\n",
       "    </tr>\n",
       "    <tr>\n",
       "      <th>mean</th>\n",
       "      <td>1.691800</td>\n",
       "      <td>1.417114</td>\n",
       "    </tr>\n",
       "    <tr>\n",
       "      <th>std</th>\n",
       "      <td>0.206903</td>\n",
       "      <td>0.219184</td>\n",
       "    </tr>\n",
       "    <tr>\n",
       "      <th>min</th>\n",
       "      <td>1.110000</td>\n",
       "      <td>1.053000</td>\n",
       "    </tr>\n",
       "    <tr>\n",
       "      <th>25%</th>\n",
       "      <td>1.572000</td>\n",
       "      <td>1.231000</td>\n",
       "    </tr>\n",
       "    <tr>\n",
       "      <th>50%</th>\n",
       "      <td>1.675000</td>\n",
       "      <td>1.379000</td>\n",
       "    </tr>\n",
       "    <tr>\n",
       "      <th>75%</th>\n",
       "      <td>1.865250</td>\n",
       "      <td>1.559000</td>\n",
       "    </tr>\n",
       "    <tr>\n",
       "      <th>max</th>\n",
       "      <td>2.054000</td>\n",
       "      <td>1.878000</td>\n",
       "    </tr>\n",
       "  </tbody>\n",
       "</table>\n",
       "</div>"
      ],
      "text/plain": [
       "           Soil1      Soil2\n",
       "count  30.000000  35.000000\n",
       "mean    1.691800   1.417114\n",
       "std     0.206903   0.219184\n",
       "min     1.110000   1.053000\n",
       "25%     1.572000   1.231000\n",
       "50%     1.675000   1.379000\n",
       "75%     1.865250   1.559000\n",
       "max     2.054000   1.878000"
      ]
     },
     "execution_count": 25,
     "metadata": {},
     "output_type": "execute_result"
    }
   ],
   "source": [
    "df.describe()"
   ]
  },
  {
   "cell_type": "code",
   "execution_count": 26,
   "id": "f4ea73bb",
   "metadata": {},
   "outputs": [
    {
     "data": {
      "image/png": "[encoded data removed]",
      "text/plain": [
       "<Figure size 640x480 with 1 Axes>"
      ]
     },
     "metadata": {},
     "output_type": "display_data"
    },
    {
     "name": "stdout",
     "output_type": "stream",
     "text": [
      "Shapiro-Wilk Test:\n",
      "Statistic: 0.9605797529220581\n",
      "p-value: 0.32050028443336487\n",
      "\n",
      "-----------------------------------------------\n",
      "Kolmogorov-Smirnov Test:\n",
      "Statistic: 0.8776765503257683\n",
      "p-value: 8.618461163766257e-28\n",
      "\n"
     ]
    }
   ],
   "source": [
    "analyze_distribution(df, \"Soil1\")"
   ]
  },
  {
   "cell_type": "code",
   "execution_count": null,
   "id": "590f389d",
   "metadata": {},
   "outputs": [],
   "source": []
  },
  {
   "cell_type": "code",
   "execution_count": 27,
   "id": "6c19c4b7",
   "metadata": {},
   "outputs": [
    {
     "data": {
      "image/png": "[encoded data removed]",
      "text/plain": [
       "<Figure size 640x480 with 1 Axes>"
      ]
     },
     "metadata": {},
     "output_type": "display_data"
    },
    {
     "name": "stdout",
     "output_type": "stream",
     "text": [
      "Shapiro-Wilk Test:\n",
      "Statistic: 0.9684144258499146\n",
      "p-value: 0.4011968970298767\n",
      "\n",
      "-----------------------------------------------\n",
      "Kolmogorov-Smirnov Test:\n",
      "Statistic: 0.8538295039606199\n",
      "p-value: 1.3279110155032839e-29\n",
      "\n"
     ]
    }
   ],
   "source": [
    "analyze_distribution(df, \"Soil2\")"
   ]
  },
  {
   "cell_type": "code",
   "execution_count": null,
   "id": "4353ab38",
   "metadata": {},
   "outputs": [],
   "source": []
  },
  {
   "cell_type": "code",
   "execution_count": 28,
   "id": "486ee360",
   "metadata": {},
   "outputs": [
    {
     "name": "stdout",
     "output_type": "stream",
     "text": [
      "T-Statistic: 5.1681473319343345\n",
      "p-value: 2.593228732352821e-06\n"
     ]
    }
   ],
   "source": [
    "t_statistic, p_value = stats.ttest_ind(df['Soil1'].dropna(), df['Soil2'].dropna(), equal_var=True)\n",
    "print('T-Statistic:', t_statistic)\n",
    "print('p-value:', p_value)"
   ]
  },
  {
   "cell_type": "code",
   "execution_count": 29,
   "id": "3bde3559",
   "metadata": {},
   "outputs": [
    {
     "name": "stdout",
     "output_type": "stream",
     "text": [
      "The soils appear to differ with respect to average shear strength at the 1% significance level.\n"
     ]
    }
   ],
   "source": [
    "\n",
    "\n",
    "\n",
    "\n",
    "\n",
    "# Check if the p-value is less than the significance level (e.g., 0.01) to reject the null hypothesis\n",
    "significance_level = 0.01\n",
    "if p_value < significance_level:\n",
    "    print(\"The soils appear to differ with respect to average shear strength at the 1% significance level.\")\n",
    "else:\n",
    "    print(\"There is no significant difference in average shear strength between the soils.\")"
   ]
  },
  {
   "cell_type": "code",
   "execution_count": null,
   "id": "887e9fb9",
   "metadata": {},
   "outputs": [],
   "source": []
  },
  {
   "cell_type": "raw",
   "id": "2ad9029c",
   "metadata": {},
   "source": [
    "EXERCISE 5. The following dataset is based on data provided by the World Bank (https://datacatalog.worldbank.org/dataset/education-statistics). World Bank Edstats.  2015 PISA Test Dataset\n",
    "\n",
    "Get descriptive statistics (the central tendency, dispersion and shape of a dataset’s distribution) for each continent group (AS, EU, AF, NA, SA, OC).\n",
    "Determine whether there is any difference (on the average) for the math scores among European (EU) and Asian (AS) countries (assume normality and equal variances). Draw side-by-side box plots.\n",
    "CHECK: statistic=0.870055317967983, pvalue=0.38826888111307345"
   ]
  },
  {
   "cell_type": "code",
   "execution_count": 30,
   "id": "b4fe736f",
   "metadata": {},
   "outputs": [
    {
     "data": {
      "text/html": [
       "<div>\n",
       "<style scoped>\n",
       "    .dataframe tbody tr th:only-of-type {\n",
       "        vertical-align: middle;\n",
       "    }\n",
       "\n",
       "    .dataframe tbody tr th {\n",
       "        vertical-align: top;\n",
       "    }\n",
       "\n",
       "    .dataframe thead th {\n",
       "        text-align: right;\n",
       "    }\n",
       "</style>\n",
       "<table border=\"1\" class=\"dataframe\">\n",
       "  <thead>\n",
       "    <tr style=\"text-align: right;\">\n",
       "      <th></th>\n",
       "      <th>Country Code</th>\n",
       "      <th>Continent_Code</th>\n",
       "      <th>internet_users_per_100</th>\n",
       "      <th>Math</th>\n",
       "      <th>Reading</th>\n",
       "      <th>Science</th>\n",
       "    </tr>\n",
       "  </thead>\n",
       "  <tbody>\n",
       "    <tr>\n",
       "      <th>0</th>\n",
       "      <td>ALB</td>\n",
       "      <td>EU</td>\n",
       "      <td>63.252933</td>\n",
       "      <td>413.1570</td>\n",
       "      <td>405.2588</td>\n",
       "      <td>427.2250</td>\n",
       "    </tr>\n",
       "    <tr>\n",
       "      <th>1</th>\n",
       "      <td>ARE</td>\n",
       "      <td>AS</td>\n",
       "      <td>90.500000</td>\n",
       "      <td>427.4827</td>\n",
       "      <td>433.5423</td>\n",
       "      <td>436.7311</td>\n",
       "    </tr>\n",
       "    <tr>\n",
       "      <th>2</th>\n",
       "      <td>ARG</td>\n",
       "      <td>SA</td>\n",
       "      <td>68.043064</td>\n",
       "      <td>409.0333</td>\n",
       "      <td>425.3031</td>\n",
       "      <td>432.2262</td>\n",
       "    </tr>\n",
       "    <tr>\n",
       "      <th>3</th>\n",
       "      <td>AUS</td>\n",
       "      <td>OC</td>\n",
       "      <td>84.560519</td>\n",
       "      <td>493.8962</td>\n",
       "      <td>502.9006</td>\n",
       "      <td>509.9939</td>\n",
       "    </tr>\n",
       "    <tr>\n",
       "      <th>4</th>\n",
       "      <td>AUT</td>\n",
       "      <td>EU</td>\n",
       "      <td>83.940142</td>\n",
       "      <td>496.7423</td>\n",
       "      <td>484.8656</td>\n",
       "      <td>495.0375</td>\n",
       "    </tr>\n",
       "    <tr>\n",
       "      <th>...</th>\n",
       "      <td>...</td>\n",
       "      <td>...</td>\n",
       "      <td>...</td>\n",
       "      <td>...</td>\n",
       "      <td>...</td>\n",
       "      <td>...</td>\n",
       "    </tr>\n",
       "    <tr>\n",
       "      <th>65</th>\n",
       "      <td>TUN</td>\n",
       "      <td>AF</td>\n",
       "      <td>48.519836</td>\n",
       "      <td>366.8180</td>\n",
       "      <td>361.0555</td>\n",
       "      <td>386.4034</td>\n",
       "    </tr>\n",
       "    <tr>\n",
       "      <th>66</th>\n",
       "      <td>TUR</td>\n",
       "      <td>EU</td>\n",
       "      <td>53.744979</td>\n",
       "      <td>420.4540</td>\n",
       "      <td>428.3351</td>\n",
       "      <td>425.4895</td>\n",
       "    </tr>\n",
       "    <tr>\n",
       "      <th>67</th>\n",
       "      <td>URY</td>\n",
       "      <td>SA</td>\n",
       "      <td>64.600000</td>\n",
       "      <td>417.9919</td>\n",
       "      <td>436.5721</td>\n",
       "      <td>435.3630</td>\n",
       "    </tr>\n",
       "    <tr>\n",
       "      <th>68</th>\n",
       "      <td>USA</td>\n",
       "      <td>NaN</td>\n",
       "      <td>74.554202</td>\n",
       "      <td>469.6285</td>\n",
       "      <td>496.9351</td>\n",
       "      <td>496.2424</td>\n",
       "    </tr>\n",
       "    <tr>\n",
       "      <th>69</th>\n",
       "      <td>VNM</td>\n",
       "      <td>AS</td>\n",
       "      <td>43.500000</td>\n",
       "      <td>494.5183</td>\n",
       "      <td>486.7738</td>\n",
       "      <td>524.6445</td>\n",
       "    </tr>\n",
       "  </tbody>\n",
       "</table>\n",
       "<p>70 rows × 6 columns</p>\n",
       "</div>"
      ],
      "text/plain": [
       "   Country Code Continent_Code  internet_users_per_100      Math   Reading  \\\n",
       "0           ALB             EU               63.252933  413.1570  405.2588   \n",
       "1           ARE             AS               90.500000  427.4827  433.5423   \n",
       "2           ARG             SA               68.043064  409.0333  425.3031   \n",
       "3           AUS             OC               84.560519  493.8962  502.9006   \n",
       "4           AUT             EU               83.940142  496.7423  484.8656   \n",
       "..          ...            ...                     ...       ...       ...   \n",
       "65          TUN             AF               48.519836  366.8180  361.0555   \n",
       "66          TUR             EU               53.744979  420.4540  428.3351   \n",
       "67          URY             SA               64.600000  417.9919  436.5721   \n",
       "68          USA            NaN               74.554202  469.6285  496.9351   \n",
       "69          VNM             AS               43.500000  494.5183  486.7738   \n",
       "\n",
       "     Science  \n",
       "0   427.2250  \n",
       "1   436.7311  \n",
       "2   432.2262  \n",
       "3   509.9939  \n",
       "4   495.0375  \n",
       "..       ...  \n",
       "65  386.4034  \n",
       "66  425.4895  \n",
       "67  435.3630  \n",
       "68  496.2424  \n",
       "69  524.6445  \n",
       "\n",
       "[70 rows x 6 columns]"
      ]
     },
     "execution_count": 30,
     "metadata": {},
     "output_type": "execute_result"
    }
   ],
   "source": [
    "df1 = pd.read_csv(\"2015 PISA Test - Sheet1.csv\")\n",
    "df1"
   ]
  },
  {
   "cell_type": "code",
   "execution_count": 31,
   "id": "2f6529cb",
   "metadata": {},
   "outputs": [
    {
     "data": {
      "text/html": [
       "<div>\n",
       "<style scoped>\n",
       "    .dataframe tbody tr th:only-of-type {\n",
       "        vertical-align: middle;\n",
       "    }\n",
       "\n",
       "    .dataframe tbody tr th {\n",
       "        vertical-align: top;\n",
       "    }\n",
       "\n",
       "    .dataframe thead th {\n",
       "        text-align: right;\n",
       "    }\n",
       "</style>\n",
       "<table border=\"1\" class=\"dataframe\">\n",
       "  <thead>\n",
       "    <tr style=\"text-align: right;\">\n",
       "      <th></th>\n",
       "      <th>count</th>\n",
       "      <th>mean</th>\n",
       "      <th>std</th>\n",
       "      <th>min</th>\n",
       "      <th>25%</th>\n",
       "      <th>50%</th>\n",
       "      <th>75%</th>\n",
       "      <th>max</th>\n",
       "    </tr>\n",
       "    <tr>\n",
       "      <th>Continent_Code</th>\n",
       "      <th></th>\n",
       "      <th></th>\n",
       "      <th></th>\n",
       "      <th></th>\n",
       "      <th></th>\n",
       "      <th></th>\n",
       "      <th></th>\n",
       "      <th></th>\n",
       "    </tr>\n",
       "  </thead>\n",
       "  <tbody>\n",
       "    <tr>\n",
       "      <th>AF</th>\n",
       "      <td>2.0</td>\n",
       "      <td>363.212100</td>\n",
       "      <td>5.099513</td>\n",
       "      <td>359.6062</td>\n",
       "      <td>361.409150</td>\n",
       "      <td>363.21210</td>\n",
       "      <td>365.015050</td>\n",
       "      <td>366.8180</td>\n",
       "    </tr>\n",
       "    <tr>\n",
       "      <th>AS</th>\n",
       "      <td>17.0</td>\n",
       "      <td>466.216647</td>\n",
       "      <td>64.356490</td>\n",
       "      <td>380.2590</td>\n",
       "      <td>403.833200</td>\n",
       "      <td>459.81600</td>\n",
       "      <td>531.296100</td>\n",
       "      <td>564.1897</td>\n",
       "    </tr>\n",
       "    <tr>\n",
       "      <th>EU</th>\n",
       "      <td>37.0</td>\n",
       "      <td>477.981449</td>\n",
       "      <td>35.150403</td>\n",
       "      <td>371.3114</td>\n",
       "      <td>464.040100</td>\n",
       "      <td>489.72870</td>\n",
       "      <td>503.722000</td>\n",
       "      <td>521.2506</td>\n",
       "    </tr>\n",
       "    <tr>\n",
       "      <th>OC</th>\n",
       "      <td>2.0</td>\n",
       "      <td>494.559750</td>\n",
       "      <td>0.938401</td>\n",
       "      <td>493.8962</td>\n",
       "      <td>494.227975</td>\n",
       "      <td>494.55975</td>\n",
       "      <td>494.891525</td>\n",
       "      <td>495.2233</td>\n",
       "    </tr>\n",
       "    <tr>\n",
       "      <th>SA</th>\n",
       "      <td>7.0</td>\n",
       "      <td>402.887700</td>\n",
       "      <td>18.128894</td>\n",
       "      <td>377.0695</td>\n",
       "      <td>388.102200</td>\n",
       "      <td>409.03330</td>\n",
       "      <td>417.617650</td>\n",
       "      <td>422.6714</td>\n",
       "    </tr>\n",
       "  </tbody>\n",
       "</table>\n",
       "</div>"
      ],
      "text/plain": [
       "                count        mean        std       min         25%        50%  \\\n",
       "Continent_Code                                                                  \n",
       "AF                2.0  363.212100   5.099513  359.6062  361.409150  363.21210   \n",
       "AS               17.0  466.216647  64.356490  380.2590  403.833200  459.81600   \n",
       "EU               37.0  477.981449  35.150403  371.3114  464.040100  489.72870   \n",
       "OC                2.0  494.559750   0.938401  493.8962  494.227975  494.55975   \n",
       "SA                7.0  402.887700  18.128894  377.0695  388.102200  409.03330   \n",
       "\n",
       "                       75%       max  \n",
       "Continent_Code                        \n",
       "AF              365.015050  366.8180  \n",
       "AS              531.296100  564.1897  \n",
       "EU              503.722000  521.2506  \n",
       "OC              494.891525  495.2233  \n",
       "SA              417.617650  422.6714  "
      ]
     },
     "execution_count": 31,
     "metadata": {},
     "output_type": "execute_result"
    }
   ],
   "source": [
    "df1.groupby(\"Continent_Code\")[\"Math\"].describe()"
   ]
  },
  {
   "cell_type": "code",
   "execution_count": 32,
   "id": "3b41b7da",
   "metadata": {},
   "outputs": [],
   "source": [
    "df1['AS_scores'] = df1[df1['Continent_Code'] == 'AS']['Math']\n",
    "df1['EU_scores'] = df1[df1['Continent_Code'] == 'EU']['Math']"
   ]
  },
  {
   "cell_type": "code",
   "execution_count": 33,
   "id": "2e04f223",
   "metadata": {},
   "outputs": [
    {
     "data": {
      "text/html": [
       "<div>\n",
       "<style scoped>\n",
       "    .dataframe tbody tr th:only-of-type {\n",
       "        vertical-align: middle;\n",
       "    }\n",
       "\n",
       "    .dataframe tbody tr th {\n",
       "        vertical-align: top;\n",
       "    }\n",
       "\n",
       "    .dataframe thead th {\n",
       "        text-align: right;\n",
       "    }\n",
       "</style>\n",
       "<table border=\"1\" class=\"dataframe\">\n",
       "  <thead>\n",
       "    <tr style=\"text-align: right;\">\n",
       "      <th></th>\n",
       "      <th>Country Code</th>\n",
       "      <th>Continent_Code</th>\n",
       "      <th>internet_users_per_100</th>\n",
       "      <th>Math</th>\n",
       "      <th>Reading</th>\n",
       "      <th>Science</th>\n",
       "      <th>AS_scores</th>\n",
       "      <th>EU_scores</th>\n",
       "    </tr>\n",
       "  </thead>\n",
       "  <tbody>\n",
       "    <tr>\n",
       "      <th>0</th>\n",
       "      <td>ALB</td>\n",
       "      <td>EU</td>\n",
       "      <td>63.252933</td>\n",
       "      <td>413.1570</td>\n",
       "      <td>405.2588</td>\n",
       "      <td>427.2250</td>\n",
       "      <td>NaN</td>\n",
       "      <td>413.1570</td>\n",
       "    </tr>\n",
       "    <tr>\n",
       "      <th>1</th>\n",
       "      <td>ARE</td>\n",
       "      <td>AS</td>\n",
       "      <td>90.500000</td>\n",
       "      <td>427.4827</td>\n",
       "      <td>433.5423</td>\n",
       "      <td>436.7311</td>\n",
       "      <td>427.4827</td>\n",
       "      <td>NaN</td>\n",
       "    </tr>\n",
       "    <tr>\n",
       "      <th>2</th>\n",
       "      <td>ARG</td>\n",
       "      <td>SA</td>\n",
       "      <td>68.043064</td>\n",
       "      <td>409.0333</td>\n",
       "      <td>425.3031</td>\n",
       "      <td>432.2262</td>\n",
       "      <td>NaN</td>\n",
       "      <td>NaN</td>\n",
       "    </tr>\n",
       "    <tr>\n",
       "      <th>3</th>\n",
       "      <td>AUS</td>\n",
       "      <td>OC</td>\n",
       "      <td>84.560519</td>\n",
       "      <td>493.8962</td>\n",
       "      <td>502.9006</td>\n",
       "      <td>509.9939</td>\n",
       "      <td>NaN</td>\n",
       "      <td>NaN</td>\n",
       "    </tr>\n",
       "    <tr>\n",
       "      <th>4</th>\n",
       "      <td>AUT</td>\n",
       "      <td>EU</td>\n",
       "      <td>83.940142</td>\n",
       "      <td>496.7423</td>\n",
       "      <td>484.8656</td>\n",
       "      <td>495.0375</td>\n",
       "      <td>NaN</td>\n",
       "      <td>496.7423</td>\n",
       "    </tr>\n",
       "    <tr>\n",
       "      <th>...</th>\n",
       "      <td>...</td>\n",
       "      <td>...</td>\n",
       "      <td>...</td>\n",
       "      <td>...</td>\n",
       "      <td>...</td>\n",
       "      <td>...</td>\n",
       "      <td>...</td>\n",
       "      <td>...</td>\n",
       "    </tr>\n",
       "    <tr>\n",
       "      <th>65</th>\n",
       "      <td>TUN</td>\n",
       "      <td>AF</td>\n",
       "      <td>48.519836</td>\n",
       "      <td>366.8180</td>\n",
       "      <td>361.0555</td>\n",
       "      <td>386.4034</td>\n",
       "      <td>NaN</td>\n",
       "      <td>NaN</td>\n",
       "    </tr>\n",
       "    <tr>\n",
       "      <th>66</th>\n",
       "      <td>TUR</td>\n",
       "      <td>EU</td>\n",
       "      <td>53.744979</td>\n",
       "      <td>420.4540</td>\n",
       "      <td>428.3351</td>\n",
       "      <td>425.4895</td>\n",
       "      <td>NaN</td>\n",
       "      <td>420.4540</td>\n",
       "    </tr>\n",
       "    <tr>\n",
       "      <th>67</th>\n",
       "      <td>URY</td>\n",
       "      <td>SA</td>\n",
       "      <td>64.600000</td>\n",
       "      <td>417.9919</td>\n",
       "      <td>436.5721</td>\n",
       "      <td>435.3630</td>\n",
       "      <td>NaN</td>\n",
       "      <td>NaN</td>\n",
       "    </tr>\n",
       "    <tr>\n",
       "      <th>68</th>\n",
       "      <td>USA</td>\n",
       "      <td>NaN</td>\n",
       "      <td>74.554202</td>\n",
       "      <td>469.6285</td>\n",
       "      <td>496.9351</td>\n",
       "      <td>496.2424</td>\n",
       "      <td>NaN</td>\n",
       "      <td>NaN</td>\n",
       "    </tr>\n",
       "    <tr>\n",
       "      <th>69</th>\n",
       "      <td>VNM</td>\n",
       "      <td>AS</td>\n",
       "      <td>43.500000</td>\n",
       "      <td>494.5183</td>\n",
       "      <td>486.7738</td>\n",
       "      <td>524.6445</td>\n",
       "      <td>494.5183</td>\n",
       "      <td>NaN</td>\n",
       "    </tr>\n",
       "  </tbody>\n",
       "</table>\n",
       "<p>70 rows × 8 columns</p>\n",
       "</div>"
      ],
      "text/plain": [
       "   Country Code Continent_Code  internet_users_per_100      Math   Reading  \\\n",
       "0           ALB             EU               63.252933  413.1570  405.2588   \n",
       "1           ARE             AS               90.500000  427.4827  433.5423   \n",
       "2           ARG             SA               68.043064  409.0333  425.3031   \n",
       "3           AUS             OC               84.560519  493.8962  502.9006   \n",
       "4           AUT             EU               83.940142  496.7423  484.8656   \n",
       "..          ...            ...                     ...       ...       ...   \n",
       "65          TUN             AF               48.519836  366.8180  361.0555   \n",
       "66          TUR             EU               53.744979  420.4540  428.3351   \n",
       "67          URY             SA               64.600000  417.9919  436.5721   \n",
       "68          USA            NaN               74.554202  469.6285  496.9351   \n",
       "69          VNM             AS               43.500000  494.5183  486.7738   \n",
       "\n",
       "     Science  AS_scores  EU_scores  \n",
       "0   427.2250        NaN   413.1570  \n",
       "1   436.7311   427.4827        NaN  \n",
       "2   432.2262        NaN        NaN  \n",
       "3   509.9939        NaN        NaN  \n",
       "4   495.0375        NaN   496.7423  \n",
       "..       ...        ...        ...  \n",
       "65  386.4034        NaN        NaN  \n",
       "66  425.4895        NaN   420.4540  \n",
       "67  435.3630        NaN        NaN  \n",
       "68  496.2424        NaN        NaN  \n",
       "69  524.6445   494.5183        NaN  \n",
       "\n",
       "[70 rows x 8 columns]"
      ]
     },
     "execution_count": 33,
     "metadata": {},
     "output_type": "execute_result"
    }
   ],
   "source": [
    "df1"
   ]
  },
  {
   "cell_type": "code",
   "execution_count": 34,
   "id": "aa7b7a0d",
   "metadata": {},
   "outputs": [
    {
     "data": {
      "image/png": "[encoded data removed]",
      "text/plain": [
       "<Figure size 640x480 with 1 Axes>"
      ]
     },
     "metadata": {},
     "output_type": "display_data"
    },
    {
     "name": "stdout",
     "output_type": "stream",
     "text": [
      "Shapiro-Wilk Test:\n",
      "Statistic: 0.9046438932418823\n",
      "p-value: 0.08126488327980042\n",
      "\n",
      "-----------------------------------------------\n",
      "Kolmogorov-Smirnov Test:\n",
      "Statistic: 1.0\n",
      "p-value: 0.0\n",
      "\n"
     ]
    }
   ],
   "source": [
    "analyze_distribution(df1, \"AS_scores\")"
   ]
  },
  {
   "cell_type": "code",
   "execution_count": null,
   "id": "772bdf21",
   "metadata": {},
   "outputs": [],
   "source": []
  },
  {
   "cell_type": "code",
   "execution_count": 35,
   "id": "bed0ff18",
   "metadata": {},
   "outputs": [
    {
     "data": {
      "image/png": "[encoded data removed]",
      "text/plain": [
       "<Figure size 640x480 with 1 Axes>"
      ]
     },
     "metadata": {},
     "output_type": "display_data"
    },
    {
     "name": "stdout",
     "output_type": "stream",
     "text": [
      "Shapiro-Wilk Test:\n",
      "Statistic: 0.8730366826057434\n",
      "p-value: 0.000569795782212168\n",
      "\n",
      "-----------------------------------------------\n",
      "Kolmogorov-Smirnov Test:\n",
      "Statistic: 1.0\n",
      "p-value: 0.0\n",
      "\n"
     ]
    }
   ],
   "source": [
    "analyze_distribution(df1, \"EU_scores\")"
   ]
  },
  {
   "cell_type": "code",
   "execution_count": null,
   "id": "111d67ca",
   "metadata": {},
   "outputs": [],
   "source": []
  },
  {
   "cell_type": "code",
   "execution_count": 37,
   "id": "e351b2cb",
   "metadata": {},
   "outputs": [
    {
     "name": "stdout",
     "output_type": "stream",
     "text": [
      "T-Statistic: -0.870055317967983\n",
      "p-value: 0.38826888111307345\n"
     ]
    }
   ],
   "source": [
    "t_statistic, p_value = stats.ttest_ind(df1[\"AS_scores\"].dropna() , df1[\"EU_scores\"].dropna(), equal_var=True)\n",
    "print('T-Statistic:', t_statistic)\n",
    "print('p-value:', p_value)"
   ]
  },
  {
   "cell_type": "code",
   "execution_count": 38,
   "id": "236d0922",
   "metadata": {},
   "outputs": [
    {
     "name": "stdout",
     "output_type": "stream",
     "text": [
      "There is no significant difference (on the average) for the math scores among European (EU) and Asian (AS) countries\n"
     ]
    }
   ],
   "source": [
    "significance_level = 0.025\n",
    "if p_value < significance_level:\n",
    "    print(\"there is any difference (on the average) for the math scores among European (EU) and Asian (AS) countries\")\n",
    "else:\n",
    "    print(\"There is no significant difference (on the average) for the math scores among European (EU) and Asian (AS) countries\")"
   ]
  },
  {
   "cell_type": "code",
   "execution_count": null,
   "id": "35f21742",
   "metadata": {},
   "outputs": [],
   "source": []
  },
  {
   "cell_type": "code",
   "execution_count": 39,
   "id": "7aca4d8a",
   "metadata": {},
   "outputs": [
    {
     "data": {
      "image/png": "[encoded data removed]",
      "text/plain": [
       "<Figure size 640x480 with 1 Axes>"
      ]
     },
     "metadata": {},
     "output_type": "display_data"
    }
   ],
   "source": [
    "sns.barplot(x=\"Continent_Code\", y=\"Math\", data=df1, errorbar=('ci', 95));"
   ]
  }
 ],
 "metadata": {
  "kernelspec": {
   "display_name": "Python 3 (ipykernel)",
   "language": "python",
   "name": "python3"
  },
  "language_info": {
   "codemirror_mode": {
    "name": "ipython",
    "version": 3
   },
   "file_extension": ".py",
   "mimetype": "text/x-python",
   "name": "python",
   "nbconvert_exporter": "python",
   "pygments_lexer": "ipython3",
   "version": "3.10.9"
  }
 },
 "nbformat": 4,
 "nbformat_minor": 5
}
